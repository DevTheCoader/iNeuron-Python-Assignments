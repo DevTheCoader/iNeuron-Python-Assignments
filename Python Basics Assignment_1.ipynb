{
 "cells": [
  {
   "cell_type": "markdown",
   "id": "a0dcb51f",
   "metadata": {},
   "source": [
    "# Python Basics Assignment_1"
   ]
  },
  {
   "cell_type": "markdown",
   "id": "7fb0bfba",
   "metadata": {},
   "source": [
    "1. In the below elements which of them are values or an expression? eg:- values can be\n",
    "   integer or string and expressions will be mathematical operators.\n",
    "   \n",
    "   *\n",
    "\n",
    "   'hello'\n",
    "\n",
    "   -87.8\n",
    " \n",
    "   -\n",
    "\n",
    "   /\n",
    "\n",
    "   +\n",
    "\n",
    "   6"
   ]
  },
  {
   "cell_type": "markdown",
   "id": "659ad764",
   "metadata": {},
   "source": [
    "Ans:  The values are 'hello', -87.8, 6 and the expressions are *, -, /, +."
   ]
  },
  {
   "cell_type": "markdown",
   "id": "af443ea3",
   "metadata": {},
   "source": [
    "2. What is the difference between string and variable?"
   ]
  },
  {
   "cell_type": "markdown",
   "id": "b2ef6d98",
   "metadata": {},
   "source": [
    "Ans: String is data type in python.It is ordered sequence of characters enclosed in single or double quotes (e.g: \"Dev\" or 'Dev').\n",
    "     In addition they can also include numbers and special characters.\n",
    "     One the other hand variable is a name inside which value can be store in a memory location. For example: x = 10, where      x is a variable. "
   ]
  },
  {
   "cell_type": "markdown",
   "id": "5b07d236",
   "metadata": {},
   "source": [
    "3. Describe three different data types."
   ]
  },
  {
   "cell_type": "markdown",
   "id": "fddff26c",
   "metadata": {},
   "source": [
    "Ans: Data types is classification of data items. It tells what operation can be performed on data items.\n",
    "     Three type of data types explain in below.\n",
    "     \n",
    "     (1). String: It is ordered sequence of characters enclosed in single or double quotes.\n",
    "     (2). List: It is also ordered sequences that can hold a variety of objects types. List support indexing and slicing.\n",
    "                It is mutable and written with square bracket. E.g: [9, 8, \"Dev\", 8.8]\n",
    "     (3). Tuples: It is also ordered collection of data type. There is only one difference that it is immutable and written \n",
    "                  by round bracket. E.g: (7, 4, 6, 9)"
   ]
  },
  {
   "cell_type": "markdown",
   "id": "ea946a57",
   "metadata": {},
   "source": [
    "4. What is an expression made up of? What do all expressions do?"
   ]
  },
  {
   "cell_type": "markdown",
   "id": "e5db5618",
   "metadata": {},
   "source": [
    "Ans: An expression is basically made of values and operators and always evaluates down to a single value.\n",
    "     \n",
    "     For example: a = 1+1 this is expression.\n",
    "                  a = 2\n",
    "                  Where 1 is integer value and + is mathematical operators. This expression evaluates to single value. "
   ]
  },
  {
   "cell_type": "markdown",
   "id": "15399d47",
   "metadata": {},
   "source": [
    "5. This assignment statements, like spam = 10. What is the difference between an expression and a statement?"
   ]
  },
  {
   "cell_type": "markdown",
   "id": "7edc8452",
   "metadata": {},
   "source": [
    "Ans. While expression is made up of values, containers, and operators and evaluates new value and if it does not do nothing \n",
    "     is called statement."
   ]
  },
  {
   "cell_type": "markdown",
   "id": "0eb694c3",
   "metadata": {},
   "source": [
    "6. After running the following code, what does the variable bacon contain?\n",
    "\n",
    "   bacon = 22\n",
    "\n",
    "   bacon + 1"
   ]
  },
  {
   "cell_type": "markdown",
   "id": "f9bd2674",
   "metadata": {},
   "source": [
    "Ans: It gives 23 after the execution of code."
   ]
  },
  {
   "cell_type": "code",
   "execution_count": 1,
   "id": "3766a237",
   "metadata": {},
   "outputs": [
    {
     "data": {
      "text/plain": [
       "23"
      ]
     },
     "execution_count": 1,
     "metadata": {},
     "output_type": "execute_result"
    }
   ],
   "source": [
    "bacon = 22\n",
    "\n",
    "bacon + 1"
   ]
  },
  {
   "cell_type": "markdown",
   "id": "15c64aa7",
   "metadata": {},
   "source": [
    "7. What should the values of the following two terms be?\n",
    "\n",
    "   'spam' + 'spamspam'\n",
    "\n",
    "   'spam' * 3"
   ]
  },
  {
   "cell_type": "markdown",
   "id": "f7ca9e35",
   "metadata": {},
   "source": [
    "Ans. It will be same."
   ]
  },
  {
   "cell_type": "code",
   "execution_count": 2,
   "id": "79cc0e66",
   "metadata": {},
   "outputs": [
    {
     "data": {
      "text/plain": [
       "'spamspamspam'"
      ]
     },
     "execution_count": 2,
     "metadata": {},
     "output_type": "execute_result"
    }
   ],
   "source": [
    "'spam' + 'spamspam'"
   ]
  },
  {
   "cell_type": "code",
   "execution_count": 3,
   "id": "2b1000df",
   "metadata": {},
   "outputs": [
    {
     "data": {
      "text/plain": [
       "'spamspamspam'"
      ]
     },
     "execution_count": 3,
     "metadata": {},
     "output_type": "execute_result"
    }
   ],
   "source": [
    "'spam' * 3"
   ]
  },
  {
   "cell_type": "markdown",
   "id": "9955e903",
   "metadata": {},
   "source": [
    "8. Why is eggs a valid variable name while 100 is invalid?"
   ]
  },
  {
   "cell_type": "markdown",
   "id": "2ad980d3",
   "metadata": {},
   "source": [
    "Ans. According to python rule variable name can not start with integer. Therefore 100 is invalid variable name."
   ]
  },
  {
   "cell_type": "markdown",
   "id": "c28b55da",
   "metadata": {},
   "source": [
    "9. What three functions can be used to get the integer, floating-point number, or string\n",
    "   version of a value?"
   ]
  },
  {
   "cell_type": "markdown",
   "id": "e2748714",
   "metadata": {},
   "source": [
    "Ans. For integer: int()\n",
    "     \n",
    "     For floating number: float()\n",
    "     \n",
    "     For string: str()"
   ]
  },
  {
   "cell_type": "markdown",
   "id": "a9671238",
   "metadata": {},
   "source": [
    "10. Why does this expression cause an error? How can you fix it?\n",
    "    \n",
    "    'I have eaten'+ 99 + 'burritos.'"
   ]
  },
  {
   "cell_type": "markdown",
   "id": "616faf58",
   "metadata": {},
   "source": [
    "Ans. Because string can not concatenate with integer. To fix this we need to typcasting the integer to string.\n"
   ]
  },
  {
   "cell_type": "code",
   "execution_count": 4,
   "id": "dbdfe515",
   "metadata": {},
   "outputs": [
    {
     "data": {
      "text/plain": [
       "'I have eaten 99 burritos.'"
      ]
     },
     "execution_count": 4,
     "metadata": {},
     "output_type": "execute_result"
    }
   ],
   "source": [
    "'I have eaten '+ str(99) + ' burritos.'"
   ]
  },
  {
   "cell_type": "code",
   "execution_count": null,
   "id": "5ce2782c",
   "metadata": {},
   "outputs": [],
   "source": []
  }
 ],
 "metadata": {
  "kernelspec": {
   "display_name": "Python 3 (ipykernel)",
   "language": "python",
   "name": "python3"
  },
  "language_info": {
   "codemirror_mode": {
    "name": "ipython",
    "version": 3
   },
   "file_extension": ".py",
   "mimetype": "text/x-python",
   "name": "python",
   "nbconvert_exporter": "python",
   "pygments_lexer": "ipython3",
   "version": "3.9.7"
  }
 },
 "nbformat": 4,
 "nbformat_minor": 5
}
